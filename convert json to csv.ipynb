{
 "cells": [
  {
   "cell_type": "code",
   "execution_count": null,
   "metadata": {},
   "outputs": [
    {
     "name": "stdout",
     "output_type": "stream",
     "text": [
      "Data size: 1826 observations\n"
     ]
    }
   ],
   "source": [
    "\n",
    "#This code convert JSon to pd then CSV\n",
    "import pandas as pd\n",
    "import simplejson as json\n",
    "\n",
    "data_file = open(\"fiveyearsdata.json\", \"r\") \n",
    "data = json.load(data_file)\n",
    "data = data\n",
    "\n",
    "print(\"Data size:\", len(data), \"observations\")\n",
    "df = pd.DataFrame()\n",
    "for i, d in enumerate(data[:]): # Going through data: observation by observation per each day\n",
    "    try:\n",
    "        df_1 = pd.DataFrame(d[\"data\"][\"weather\"], index=[i])\n",
    "        df_2 = pd.DataFrame(d[\"data\"][\"request\"], index=[i])\n",
    "        df_ = pd.concat([df_1, df_2], axis=1)\n",
    "        for k, v in d[\"data\"][\"weather\"][0][\"hourly\"][0].items():\n",
    "            df_.loc[i, k] = v\n",
    "        for k, v in d[\"data\"][\"weather\"][0][\"astronomy\"][0].items():\n",
    "            df_.loc[i, k] = v\n",
    "\n",
    "        df = df_ if df.empty else df.append(df_)\n",
    "    except:\n",
    "        # There are some errors found in fetched data already. \n",
    "        # Days missed as a result of an error should be imputed by some way\n",
    "        print(\"Error at index:\", i, \"Error details:\", d[\"data\"]) \n",
    "\n",
    "df = df.drop('hourly', 1)\n",
    "df = df.drop('astronomy', 1)\n",
    "\n",
    "print(\"Fetched data sieze:\", len(df), \"observations\")\n",
    "print(\"Number of variables:\", len(df.columns))\n",
    "\n",
    "df.to_csv('weather_data.csv', sep='|') # sep here is to avoid \",\" in the query column"
   ]
  },
  {
   "cell_type": "code",
   "execution_count": null,
   "metadata": {},
   "outputs": [],
   "source": []
  }
 ],
 "metadata": {
  "kernelspec": {
   "display_name": "Python 3",
   "language": "python",
   "name": "python3"
  },
  "language_info": {
   "codemirror_mode": {
    "name": "ipython",
    "version": 3
   },
   "file_extension": ".py",
   "mimetype": "text/x-python",
   "name": "python",
   "nbconvert_exporter": "python",
   "pygments_lexer": "ipython3",
   "version": "3.7.2"
  }
 },
 "nbformat": 4,
 "nbformat_minor": 2
}
